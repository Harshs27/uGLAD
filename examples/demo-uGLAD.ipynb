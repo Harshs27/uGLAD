{
 "cells": [
  {
   "cell_type": "markdown",
   "id": "4c714614",
   "metadata": {},
   "source": [
    "## A minimalist example for recovering sparse graphs using `uGLAD`\n",
    "\n",
    "Fitting uGLAD on a erdos-renyi random sparse graph with samples obtained from a corresponding multivariate Gaussian distribution.    \n",
    "\n",
    "### About `uGLAD` \n",
    "Sparse graph recovery by optimizing deep unrolled networks. This work proposes `uGLAD` which is a unsupervised version of a previous `GLAD` model (GLAD: Learning Sparse Graph Recovery (ICLR 2020 - [link](<https://openreview.net/forum?id=BkxpMTEtPB>)).  \n",
    "\n",
    "Key benefits & features:  \n",
    "- Solution to Graphical Lasso: A better alternative to solve the Graphical Lasso problem as\n",
    "    - The neural networks of the uGLAD enable adaptive choices of the hyperparameters which leads to better performance than the existing algorithms  \n",
    "     - No need to pre-specify the sparsity related regularization hyperparameters    \n",
    "    - Requires less number of iterations to converge due to neural network based acceleration of the unrolled optimization algorithm (Alternating Minimization)    \n",
    "    - GPU based acceleration can be leveraged  \n",
    "    - Novel `consensus` strategy which robustly handles missing values by leveraging the multi-task learning ability of the model   \n",
    "    - Multi-task learning mode that solves the graphical lasso objective to recover multiple graphs with a single `uGLAD` model  \n",
    "- Glasso loss function: The loss is the logdet objective of the graphical lasso `1/M(-1*log|theta|+ <S, theta>)`, where `M=num_samples, S=input covariance matrix, theta=predicted precision matrix`.  \n",
    "- Ease of usability: Matches the I/O signature of `sklearn GraphicalLassoCV`, so easy to plug-in to the existing code.  "
   ]
  },
  {
   "cell_type": "code",
   "execution_count": 1,
   "id": "193b57a6",
   "metadata": {},
   "outputs": [
    {
     "name": "stdout",
     "output_type": "stream",
     "text": [
      "/opt/homebrew/anaconda3/envs/uGLAD\n"
     ]
    }
   ],
   "source": [
    "import os, sys\n",
    "# reloads modules automatically before entering the \n",
    "# execution of code typed at the IPython prompt.\n",
    "%load_ext autoreload\n",
    "%autoreload 2\n",
    "# install jupyter-notebook in the env if the prefix does not \n",
    "# show the desired virtual env. \n",
    "print(sys.prefix)\n",
    "import warnings\n",
    "warnings.filterwarnings('ignore')"
   ]
  },
  {
   "cell_type": "code",
   "execution_count": 2,
   "id": "1db9f5ab",
   "metadata": {},
   "outputs": [
    {
     "data": {
      "text/plain": [
       "'2.7.1'"
      ]
     },
     "execution_count": 2,
     "metadata": {},
     "output_type": "execute_result"
    }
   ],
   "source": [
    "# Install the uGLAD package if it is not already installed\n",
    "# ! pip install uglad\n",
    "import torch\n",
    "torch.__version__"
   ]
  },
  {
   "cell_type": "markdown",
   "id": "982d45c7",
   "metadata": {},
   "source": [
    "# 1. Synthetic data convergence"
   ]
  },
  {
   "cell_type": "code",
   "execution_count": 3,
   "id": "6f589ad0",
   "metadata": {},
   "outputs": [
    {
     "name": "stdout",
     "output_type": "stream",
     "text": [
      "true_theta: (1, 20, 20), Samples (1, 500, 20)\n"
     ]
    }
   ],
   "source": [
    "from uglad.utils.prepare_data import get_data\n",
    "from uglad.utils.metrics import report_metrics_all\n",
    "\n",
    "# Xb = samples batch, trueTheta = corresponding true precision matrices\n",
    "Xb, true_theta = get_data(\n",
    "    num_nodes=20, \n",
    "    sparsity=[0.2, 0.2], \n",
    "    num_samples=500, \n",
    "    batch_size=1,\n",
    "    eig_offset=1, \n",
    "    w_min=0.5,\n",
    "    w_max=1\n",
    ")\n",
    "print(f'true_theta: {true_theta.shape}, Samples {Xb.shape}')"
   ]
  },
  {
   "cell_type": "markdown",
   "id": "5e6936ae",
   "metadata": {},
   "source": [
    "### The uGLAD model\n",
    "\n",
    "Learning details:  \n",
    "1. Initialize learnable `GLAD` parameters  \n",
    "2. Run the GLAD model  \n",
    "3. Get the glasso-loss  \n",
    "4. Backprop  \n",
    "\n",
    "Possible solutions if `uGLAD` does not converge:  \n",
    "1. Increase number of training EPOCHS\n",
    "2. Lower the learning rate    \n",
    "3. Please re-run. This will run the optimization with different initializations  \n",
    "4. Change the INIT_DIAG=0/1 in the `GLAD` model parameters  \n",
    "5. Increase `L`, the number of unrolled iterations of `GLAD`"
   ]
  },
  {
   "cell_type": "markdown",
   "id": "5a1da718",
   "metadata": {},
   "source": [
    "### Running the uGLAD-Direct mode\n",
    "\n",
    "- Directly optimize the uGLAD model on the complete data X\n",
    "- Optimizes the model to minimize the glasso-loss on X "
   ]
  },
  {
   "cell_type": "code",
   "execution_count": 4,
   "id": "44fa2c1a",
   "metadata": {},
   "outputs": [
    {
     "name": "stdout",
     "output_type": "stream",
     "text": [
      "Running uGLAD\n",
      "Processing the input table for basic compatibility check\n",
      ": Processing the input table for basic compatibility check\n",
      ": The input table has sample 500 and features 20\n",
      ": Total zero samples dropped 0\n",
      ": Single value columns dropped:            total 0, columns []\n",
      "Input covariance matrix: The condition number 8.437591765567518 and min eig 0.008088754290042006 max eig 0.06824960659135737\n",
      ": Duplicates dropped:                total 0, columns []\n",
      ": Low Variance columns dropped: min variance 0.0,        total 0, columns []\n",
      "Processed covariance matrix: The condition number 8.437591765567518 and min eig 0.008088754290042011 max eig 0.06824960659135741\n",
      ": The processed table has sample                500 and features 20\n",
      ": Total time to process the table 0.028 secs\n",
      "Direct Mode\n",
      "Initialized parameters for uGLAD theta_init_offset=1.0,nF=3,H=3\n",
      "epoch:0/800 loss:-24.19041633605957\n",
      "epoch:80/800 loss:-34.01111602783203\n",
      "epoch:160/800 loss:-38.15787887573242\n",
      "epoch:240/800 loss:-41.55694580078125\n",
      "epoch:320/800 loss:-53.34147262573242\n",
      "epoch:400/800 loss:-53.367271423339844\n",
      "epoch:480/800 loss:-53.371334075927734\n",
      "epoch:560/800 loss:-53.37517547607422\n",
      "epoch:640/800 loss:-53.378814697265625\n",
      "epoch:720/800 loss:-53.38220977783203\n"
     ]
    },
    {
     "data": {
      "image/png": "[encoded data removed]",
      "text/plain": [
       "<Figure size 800x500 with 1 Axes>"
      ]
     },
     "metadata": {},
     "output_type": "display_data"
    },
    {
     "name": "stdout",
     "output_type": "stream",
     "text": [
      "Total runtime: 14.827335119247437 secs\n",
      "\n",
      "uGLAD: {'FDR': 0.521, 'TPR': 1.0, 'FPR': 0.245, 'SHD': 38.0, 'nnzTrue': 35.0, 'nnzPred': 73.0, 'precision': 0.479, 'recall': 1.0, 'Fbeta': 0.648, 'aupr': 0.994, 'auc': 0.999}\n"
     ]
    }
   ],
   "source": [
    "from uglad import main as uG\n",
    "\n",
    "# Initialize the model\n",
    "model_uGLAD = uG.uGLAD_GL()  \n",
    "\n",
    "# Fit to the data\n",
    "model_uGLAD.fit(\n",
    "    Xb[0],\n",
    "    centered=False,\n",
    "    epochs=800,\n",
    "    lr=0.002,\n",
    "    INIT_DIAG=0,\n",
    "    L=15,\n",
    "    verbose=True, #False, \n",
    "    k_fold=0,  # Direct mode\n",
    "    mode='direct'\n",
    ")  \n",
    "\n",
    "# Comparing with true precision matrix\n",
    "compare_theta_uGLAD = report_metrics_all(\n",
    "        true_theta[0], \n",
    "        model_uGLAD.precision_\n",
    "    )\n",
    "print(f'uGLAD: {compare_theta_uGLAD}')"
   ]
  },
  {
   "cell_type": "markdown",
   "id": "06c27c15",
   "metadata": {},
   "source": [
    "### Running the uGLAD-CV mode \n",
    "\n",
    "- Finds the best model by doing cross-fold validation on the input samples X\n",
    "- Chooses the model which performs best in terms of glasso-loss on held-out data\n",
    "- More conservative than the direct mode"
   ]
  },
  {
   "cell_type": "code",
   "execution_count": null,
   "id": "a9d3ca4f",
   "metadata": {},
   "outputs": [
    {
     "name": "stdout",
     "output_type": "stream",
     "text": [
      "Running uGLAD\n",
      "Processing the input table for basic compatibility check\n",
      "CV mode: 5-fold\n",
      "Total runtime: 93.86193203926086 secs\n",
      "\n",
      "uGLAD: {'FDR': 0.558, 'TPR': 1.0, 'FPR': 0.276, 'SHD': 43.0, 'nnzTrue': 34.0, 'nnzPred': 77.0, 'precision': 0.442, 'recall': 1.0, 'Fbeta': 0.613, 'aupr': 0.995, 'auc': 0.999}\n"
     ]
    }
   ],
   "source": [
    "from uglad import main as uG\n",
    "\n",
    "# Initialize the model\n",
    "model_uGLAD = uG.uGLAD_GL()  \n",
    "\n",
    "# Fit to the data\n",
    "model_uGLAD.fit(\n",
    "    Xb[0],\n",
    "    centered=False,\n",
    "    epochs=800,\n",
    "    lr=0.002,\n",
    "    INIT_DIAG=0,\n",
    "    L=15,\n",
    "    verbose=False,\n",
    "    k_fold=5, \n",
    "    mode='cv'\n",
    ")  \n",
    "\n",
    "# Comparing with true precision matrix\n",
    "compare_theta_uGLAD = report_metrics_all(\n",
    "        true_theta[0], \n",
    "        model_uGLAD.precision_\n",
    "    )\n",
    "print(f'uGLAD: {compare_theta_uGLAD}')"
   ]
  },
  {
   "cell_type": "markdown",
   "id": "f7d862d3",
   "metadata": {},
   "source": [
    "### Comparison with sklearn's GraphicalLassoCV"
   ]
  },
  {
   "cell_type": "code",
   "execution_count": 14,
   "id": "528b2d2b",
   "metadata": {},
   "outputs": [
    {
     "name": "stdout",
     "output_type": "stream",
     "text": [
      "BCD: {'FDR': 0.58, 'TPR': 1.0, 'FPR': 0.301, 'SHD': 47.0, 'nnzTrue': 34.0, 'nnzPred': 81.0, 'precision': 0.42, 'recall': 1.0, 'Fbeta': 0.591, 'aupr': 0.995, 'auc': 0.999}\n"
     ]
    }
   ],
   "source": [
    "from sklearn.covariance import GraphicalLassoCV\n",
    "\n",
    "model_BCD = GraphicalLassoCV().fit(Xb[0])\n",
    "# Compare with theta\n",
    "compare_theta_BCD = report_metrics_all(\n",
    "    true_theta[0], \n",
    "    model_BCD.precision_\n",
    ")\n",
    "print(f'BCD: {compare_theta_BCD}')"
   ]
  },
  {
   "cell_type": "markdown",
   "id": "3050887a",
   "metadata": {},
   "source": [
    "# 2. Handling missing values\n",
    "Running `uGLAD` model in mode=`missing`:\n",
    "- Leverages the multi-task learning feature of the `uGLAD` model\n",
    "- Uses the novel `consensus` strategy to robustly handle the missing values"
   ]
  },
  {
   "cell_type": "code",
   "execution_count": null,
   "id": "a36f4389",
   "metadata": {},
   "outputs": [],
   "source": [
    "# Adding dropout noise to Xb\n",
    "from uglad.utils.prepare_data import add_noise_dropout\n",
    "from uglad.main import mean_imputation\n",
    "import numpy as np\n",
    "\n",
    "# Adding np.NaNs to introduce missing values\n",
    "Xb_miss = add_noise_dropout(Xb, dropout=0.83)\n",
    "# Doing mean imputation for basic statistical comparsion\n",
    "B, M, D = Xb_miss.shape\n",
    "Xb_mean = [] \n",
    "for b in range(B):\n",
    "    X_miss = Xb_miss[b].copy()\n",
    "    X_miss = X_miss.reshape(1, M, D)\n",
    "    Xb_mean.append(mean_imputation(X_miss).reshape(M, D))\n",
    "Xb_mean = np.array(Xb_mean)"
   ]
  },
  {
   "cell_type": "markdown",
   "id": "aec82a1e",
   "metadata": {},
   "source": [
    "### Running the `uGLAD-miss` model in missing data mode "
   ]
  },
  {
   "cell_type": "code",
   "execution_count": null,
   "id": "34acefd5",
   "metadata": {},
   "outputs": [
    {
     "name": "stdout",
     "output_type": "stream",
     "text": [
      "Running uGLAD\n",
      "Processing the input table for basic compatibility check\n",
      "Handling missing data\n",
      "Creating K=3 row-subsampled batches\n",
      "Getting the final precision matrix using the consensus strategy\n",
      "Total runtime: 20.36613392829895 secs\n",
      "\n",
      "uGLAD: {'FDR': 0.817, 'TPR': 0.824, 'FPR': 0.801, 'SHD': 131.0, 'nnzTrue': 34.0, 'nnzPred': 153.0, 'precision': 0.183, 'recall': 0.824, 'Fbeta': 0.299, 'aupr': 0.217, 'auc': 0.543}\n"
     ]
    }
   ],
   "source": [
    "from uglad import main as uG\n",
    "\n",
    "# Initialize the model\n",
    "model_uGLAD = uG.uGLAD_GL()  \n",
    "\n",
    "# Fit to the data\n",
    "model_uGLAD.fit(\n",
    "    Xb_miss[0],\n",
    "    centered=False,\n",
    "    epochs=500,\n",
    "    lr=0.005,\n",
    "    INIT_DIAG=0,\n",
    "    L=15,\n",
    "    verbose=False,\n",
    "    k_fold=3,  # The number of sumsample splits\n",
    "    mode='missing'\n",
    ")  \n",
    "\n",
    "# Comparing with true precision matrix\n",
    "compare_theta_uGLAD = report_metrics_all(\n",
    "        true_theta[0], \n",
    "        model_uGLAD.precision_\n",
    "    )\n",
    "print(f'uGLAD: {compare_theta_uGLAD}')"
   ]
  },
  {
   "cell_type": "markdown",
   "id": "dd78e9e2",
   "metadata": {},
   "source": [
    "### Missing values: Comparison with BCD-mean\n",
    "Run GraphicalLassoCV with mean imputed Xb_mean"
   ]
  },
  {
   "cell_type": "code",
   "execution_count": 32,
   "id": "a5fa3670",
   "metadata": {},
   "outputs": [
    {
     "name": "stdout",
     "output_type": "stream",
     "text": [
      "BCD: {'FDR': 0.5, 'TPR': 0.029, 'FPR': 0.006, 'SHD': 34.0, 'nnzTrue': 34.0, 'nnzPred': 2.0, 'precision': 0.5, 'recall': 0.029, 'Fbeta': 0.056, 'aupr': 0.188, 'auc': 0.511}\n"
     ]
    }
   ],
   "source": [
    "from sklearn.covariance import GraphicalLassoCV\n",
    "\n",
    "model_BCD = GraphicalLassoCV().fit(Xb_mean[0])\n",
    "# Compare with theta\n",
    "compare_theta_BCD = report_metrics_all(\n",
    "    true_theta[0], \n",
    "    model_BCD.precision_\n",
    ")\n",
    "print(f'BCD: {compare_theta_BCD}')"
   ]
  },
  {
   "cell_type": "markdown",
   "id": "1b9a6856",
   "metadata": {},
   "source": [
    "# 3. Multi-task learning mode\n",
    "- Generate synthetic data coming from graphs with varying sparsity\n",
    "- Recover the batch precision matrices for the batch input data X"
   ]
  },
  {
   "cell_type": "code",
   "execution_count": null,
   "id": "a87fc95a",
   "metadata": {},
   "outputs": [
    {
     "name": "stdout",
     "output_type": "stream",
     "text": [
      "true_theta: (3, 20, 20), Samples (3, 500, 20)\n"
     ]
    }
   ],
   "source": [
    "# Creating synthetic data for multi-task learning \n",
    "from uglad.utils.prepare_data import get_data\n",
    "from uglad.utils.metrics import report_metrics_all\n",
    "\n",
    "# Xb = samples batch, trueTheta = corresponding true precision matrices\n",
    "Xb, true_theta = get_data(\n",
    "    num_nodes=20, \n",
    "    sparsity=[0.1, 0.2], \n",
    "    num_samples=500, \n",
    "    batch_size=3,\n",
    "    eig_offset=1, \n",
    "    w_min=0.5,\n",
    "    w_max=1\n",
    ")\n",
    "print(f'true_theta: {true_theta.shape}, Samples {Xb.shape}')"
   ]
  },
  {
   "cell_type": "code",
   "execution_count": null,
   "id": "483d8c9e",
   "metadata": {},
   "outputs": [
    {
     "name": "stdout",
     "output_type": "stream",
     "text": [
      "Running uGLAD in multi-task mode\n",
      "Processing the input table for basic compatibility check\n",
      "Total runtime: 8.207151889801025 secs\n",
      "\n",
      "Metrics for graph 0: {'FDR': 0.702, 'TPR': 1.0, 'FPR': 0.552, 'SHD': 85.0, 'nnzTrue': 36.0, 'nnzPred': 121.0, 'precision': 0.298, 'recall': 1.0, 'Fbeta': 0.459, 'aupr': 0.999, 'auc': 1.0}\n",
      "\n",
      "Metrics for graph 1: {'FDR': 0.748, 'TPR': 1.0, 'FPR': 0.512, 'SHD': 83.0, 'nnzTrue': 28.0, 'nnzPred': 111.0, 'precision': 0.252, 'recall': 1.0, 'Fbeta': 0.403, 'aupr': 1.0, 'auc': 1.0}\n",
      "\n",
      "Metrics for graph 2: {'FDR': 0.703, 'TPR': 1.0, 'FPR': 0.535, 'SHD': 83.0, 'nnzTrue': 35.0, 'nnzPred': 118.0, 'precision': 0.297, 'recall': 1.0, 'Fbeta': 0.458, 'aupr': 0.993, 'auc': 0.999}\n",
      "\n",
      "Avg results for uGLAD multi-task (mean, std)\n",
      "\n",
      "{'FDR': (0.718, 0.021),\n",
      " 'FPR': (0.533, 0.016),\n",
      " 'Fbeta': (0.44, 0.026),\n",
      " 'SHD': (83.667, 0.943),\n",
      " 'TPR': (1.0, 0.0),\n",
      " 'auc': (1.0, 0.0),\n",
      " 'aupr': (0.997, 0.003),\n",
      " 'nnzPred': (116.667, 4.19),\n",
      " 'nnzTrue': (33.0, 3.559),\n",
      " 'precision': (0.282, 0.021),\n",
      " 'recall': (1.0, 0.0)}\n",
      "\n",
      "Total runs 3\n",
      "\n",
      "\n"
     ]
    }
   ],
   "source": [
    "# Running uGLAD in multi-task learning mode\n",
    "from uglad import main as uG\n",
    "from uglad.utils.metrics import summarize_compare_theta\n",
    "\n",
    "# Initialize the model\n",
    "model_uGLAD = uG.uGLAD_multitask()  \n",
    "\n",
    "K = len(Xb)\n",
    "\n",
    "# Fit to the data\n",
    "model_uGLAD.fit(\n",
    "    Xb,\n",
    "    centered=False,\n",
    "    epochs=200,\n",
    "    lr=0.01,\n",
    "    INIT_DIAG=0,\n",
    "    L=15,\n",
    "    verbose=False,\n",
    ")\n",
    "\n",
    "# Print the compare metrics\n",
    "compare_theta_MT = []\n",
    "for b in range(K):\n",
    "    rM = report_metrics_all(\n",
    "            true_theta[b], \n",
    "            model_uGLAD.precision_[b]\n",
    "        )\n",
    "    print(f'Metrics for graph {b}: {rM}\\n')\n",
    "    compare_theta_MT.append(rM)\n",
    "\n",
    "# Calculate the average statistics\n",
    "avg_results_MT = summarize_compare_theta(compare_theta_MT, method_name='uGLAD multi-task')"
   ]
  },
  {
   "cell_type": "code",
   "execution_count": null,
   "id": "438d62be",
   "metadata": {},
   "outputs": [],
   "source": []
  }
 ],
 "metadata": {
  "kernelspec": {
   "display_name": "test-uglad1",
   "language": "python",
   "name": "python3"
  },
  "language_info": {
   "codemirror_mode": {
    "name": "ipython",
    "version": 3
   },
   "file_extension": ".py",
   "mimetype": "text/x-python",
   "name": "python",
   "nbconvert_exporter": "python",
   "pygments_lexer": "ipython3",
   "version": "3.13.5"
  }
 },
 "nbformat": 4,
 "nbformat_minor": 5
}
