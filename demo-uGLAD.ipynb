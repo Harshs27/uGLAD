{
 "cells": [
  {
   "cell_type": "markdown",
   "id": "4c714614",
   "metadata": {},
   "source": [
    "## A minimalist example for recovering sparse graphs using `uGLAD`\n",
    "\n",
    "Fitting uGLAD on a erdos-renyi random sparse graph with samples obtained from a corresponding multivariate Gaussian distribution.    \n",
    "\n",
    "### About `uGLAD` \n",
    "Sparse graph recovery by optimizing deep unrolled networks. This work proposes `uGLAD` which is a unsupervised version of a previous `GLAD` model (GLAD: Learning Sparse Graph Recovery (ICLR 2020 - [link](<https://openreview.net/forum?id=BkxpMTEtPB>)).  \n",
    "\n",
    "Key benefits & features:  \n",
    "- Solution to Graphical Lasso: A better alternative to solve the Graphical Lasso problem as\n",
    "    - The neural networks of the uGLAD enable adaptive choices of the hyperparameters which leads to better performance than the existing algorithms  \n",
    "     - No need to pre-specify the sparsity related regularization hyperparameters    \n",
    "    - Requires less number of iterations to converge due to neural network based acceleration of the unrolled optimization algorithm (Alternating Minimization)    \n",
    "    - GPU based acceleration can be leveraged  \n",
    "    - Novel `consensus` strategy which robustly handles missing values by leveraging the multi-task learning ability of the model   \n",
    "- Glasso loss function: The loss is the logdet objective of the graphical lasso `1/M(-1*log|theta|+ <S, theta>)`, where `M=num_samples, S=input covariance matrix, theta=predicted precision matrix`.  \n",
    "- Ease of usability: Matches the I/O signature of `sklearn GraphicalLassoCV`, so easy to plug-in to the existing code.  "
   ]
  },
  {
   "cell_type": "code",
   "execution_count": 1,
   "id": "193b57a6",
   "metadata": {},
   "outputs": [
    {
     "name": "stdout",
     "output_type": "stream",
     "text": [
      "/home/harshx/anaconda3/envs/uGLAD\n"
     ]
    }
   ],
   "source": [
    "import os, sys\n",
    "# reloads modules automatically before entering the \n",
    "# execution of code typed at the IPython prompt.\n",
    "%load_ext autoreload\n",
    "%autoreload 2\n",
    "# install jupyter-notebook in the env if the prefix does not \n",
    "# show the desired virtual env. \n",
    "print(sys.prefix)\n",
    "import warnings\n",
    "warnings.filterwarnings('ignore')"
   ]
  },
  {
   "cell_type": "code",
   "execution_count": 2,
   "id": "1db9f5ab",
   "metadata": {},
   "outputs": [
    {
     "data": {
      "text/plain": [
       "'1.10.1'"
      ]
     },
     "execution_count": 2,
     "metadata": {},
     "output_type": "execute_result"
    }
   ],
   "source": [
    "import torch\n",
    "torch.__version__"
   ]
  },
  {
   "cell_type": "markdown",
   "id": "982d45c7",
   "metadata": {},
   "source": [
    "### Create sample data"
   ]
  },
  {
   "cell_type": "code",
   "execution_count": 3,
   "id": "6f589ad0",
   "metadata": {},
   "outputs": [
    {
     "name": "stdout",
     "output_type": "stream",
     "text": [
      "true_theta: (1, 10, 10), Samples (1, 500, 10)\n"
     ]
    }
   ],
   "source": [
    "from uGLAD.utils.prepare_data import get_data\n",
    "from uGLAD.utils.metrics import reportMetrics\n",
    "\n",
    "# Xb = samples batch, trueTheta = corresponding true precision matrices\n",
    "Xb, true_theta = get_data(\n",
    "    num_nodes=10, \n",
    "    sparsity=0.2, \n",
    "    num_samples=500, \n",
    "    batch_size=1,\n",
    "    eig_offset=1, \n",
    "    w_min=0.5,\n",
    "    w_max=1\n",
    ")\n",
    "print(f'true_theta: {true_theta.shape}, Samples {Xb.shape}')"
   ]
  },
  {
   "cell_type": "markdown",
   "id": "5e6936ae",
   "metadata": {},
   "source": [
    "### The uGLAD model\n",
    "\n",
    "Learning details:  \n",
    "1. Initialize learnable `GLAD` parameters  \n",
    "2. Run the GLAD model  \n",
    "3. Get the glasso-loss  \n",
    "4. Backprop  \n",
    "\n",
    "Possible solutions if `uGLAD` does not converge:  \n",
    "1. Increase number of training EPOCHS\n",
    "2. Lower the learning rate    \n",
    "3. Please re-run. This will run the optimization with different initializations  \n",
    "4. Change the INIT_DIAG=0/1 in the `GLAD` model parameters  \n",
    "5. Increase `L`, the number of unrolled iterations of `GLAD`"
   ]
  },
  {
   "cell_type": "markdown",
   "id": "5a1da718",
   "metadata": {},
   "source": [
    "### Running the uGLAD-Direct mode\n",
    "\n",
    "- Directly optimize the uGLAD model on the complete data X\n",
    "- Optimizes the model to minimize the glasso-loss on X "
   ]
  },
  {
   "cell_type": "code",
   "execution_count": 4,
   "id": "44fa2c1a",
   "metadata": {},
   "outputs": [
    {
     "name": "stdout",
     "output_type": "stream",
     "text": [
      "Running uGLAD\n",
      "Direct Mode\n",
      "Total runtime: 8.951887369155884 secs\n",
      "\n",
      "uGLAD: {'FDR': 0.2857142857142857, 'TPR': 1.0, 'FPR': 0.11428571428571428, 'SHD': 4, 'nnzTrue': 10, 'nnzPred': 14, 'precision': 0.7142857142857143, 'recall': 1.0, 'Fbeta': 0.8333333333333334, 'aupr': 1.0, 'auc': 1.0}\n"
     ]
    }
   ],
   "source": [
    "from uGLAD import main as uG\n",
    "\n",
    "# Initialize the model\n",
    "model_uGLAD = uG.uGLAD_GL()  \n",
    "\n",
    "# Fit to the data\n",
    "model_uGLAD.fit(\n",
    "    Xb[0],\n",
    "    centered=False,\n",
    "    epochs=250,\n",
    "    lr=0.002,\n",
    "    INIT_DIAG=0,\n",
    "    L=15,\n",
    "    verbose=False, \n",
    "    k_fold=0,  # Direct mode\n",
    "    mode='direct'\n",
    ")  \n",
    "\n",
    "# Comparing with true precision matrix\n",
    "compare_theta_uGLAD = reportMetrics(\n",
    "        true_theta[0], \n",
    "        model_uGLAD.precision_\n",
    "    )\n",
    "print(f'uGLAD: {compare_theta_uGLAD}')"
   ]
  },
  {
   "cell_type": "markdown",
   "id": "06c27c15",
   "metadata": {},
   "source": [
    "### Running the uGLAD-CV mode \n",
    "\n",
    "- Finds the best model by doing cross-fold validation on the input samples X\n",
    "- Chooses the model which performs best in terms of glasso-loss on held-out data\n",
    "- More conservative than the direct mode"
   ]
  },
  {
   "cell_type": "code",
   "execution_count": 5,
   "id": "a9d3ca4f",
   "metadata": {},
   "outputs": [
    {
     "name": "stdout",
     "output_type": "stream",
     "text": [
      "Running uGLAD\n",
      "CV mode: 3-fold\n",
      "Total runtime: 36.888649702072144 secs\n",
      "\n",
      "uGLAD: {'FDR': 0.0, 'TPR': 1.0, 'FPR': 0.0, 'SHD': 0, 'nnzTrue': 10, 'nnzPred': 10, 'precision': 1.0, 'recall': 1.0, 'Fbeta': 1.0, 'aupr': 1.0, 'auc': 1.0}\n"
     ]
    }
   ],
   "source": [
    "from uGLAD import main as uG\n",
    "\n",
    "# Initialize the model\n",
    "model_uGLAD = uG.uGLAD_GL()  \n",
    "\n",
    "# Fit to the data\n",
    "model_uGLAD.fit(\n",
    "    Xb[0],\n",
    "    centered=False,\n",
    "    epochs=250,\n",
    "    lr=0.002,\n",
    "    INIT_DIAG=0,\n",
    "    L=15,\n",
    "    verbose=False,\n",
    "    k_fold=3, \n",
    "    mode='cv'\n",
    ")  \n",
    "\n",
    "# Comparing with true precision matrix\n",
    "compare_theta_uGLAD = reportMetrics(\n",
    "        true_theta[0], \n",
    "        model_uGLAD.precision_\n",
    "    )\n",
    "print(f'uGLAD: {compare_theta_uGLAD}')"
   ]
  },
  {
   "cell_type": "markdown",
   "id": "f7d862d3",
   "metadata": {},
   "source": [
    "### Comparison with sklearn's GraphicalLassoCV"
   ]
  },
  {
   "cell_type": "code",
   "execution_count": 6,
   "id": "528b2d2b",
   "metadata": {},
   "outputs": [
    {
     "name": "stdout",
     "output_type": "stream",
     "text": [
      "BCD: {'FDR': 0.5833333333333334, 'TPR': 1.0, 'FPR': 0.4, 'SHD': 14, 'nnzTrue': 10, 'nnzPred': 24, 'precision': 0.4166666666666667, 'recall': 1.0, 'Fbeta': 0.5882352941176471, 'aupr': 1.0, 'auc': 1.0}\n"
     ]
    }
   ],
   "source": [
    "from sklearn.covariance import GraphicalLassoCV\n",
    "\n",
    "model_BCD = GraphicalLassoCV().fit(Xb[0])\n",
    "# Compare with theta\n",
    "compare_theta_BCD = reportMetrics(\n",
    "    true_theta[0], \n",
    "    model_BCD.precision_\n",
    ")\n",
    "print(f'BCD: {compare_theta_BCD}')"
   ]
  },
  {
   "cell_type": "markdown",
   "id": "11a91afb",
   "metadata": {},
   "source": [
    "# Handling missing values\n",
    "Running `uGLAD` model in mode=`missing`:\n",
    "- Leverages the multi-task learning feature of the `uGLAD` model\n",
    "- Uses the novel `consensus` strategy to robustly handle the missing values"
   ]
  },
  {
   "cell_type": "code",
   "execution_count": 79,
   "id": "5c5d6258",
   "metadata": {},
   "outputs": [],
   "source": [
    "# Adding dropout noise to Xb\n",
    "from uGLAD.utils.prepare_data import add_noise_dropout\n",
    "from uGLAD.main import mean_imputation\n",
    "import numpy as np\n",
    "\n",
    "# Adding np.NaNs to introduce missing values\n",
    "Xb_miss = add_noise_dropout(Xb, dropout=0.75)\n",
    "# Doing mean imputation for basic statistical comparsion\n",
    "B, M, D = Xb_miss.shape\n",
    "Xb_mean = [] \n",
    "for b in range(B):\n",
    "    X_miss = Xb_miss[b].copy()\n",
    "    X_miss = X_miss.reshape(1, M, D)\n",
    "    Xb_mean.append(mean_imputation(X_miss).reshape(M, D))\n",
    "Xb_mean = np.array(Xb_mean)"
   ]
  },
  {
   "cell_type": "code",
   "execution_count": 80,
   "id": "96a97f73",
   "metadata": {},
   "outputs": [
    {
     "data": {
      "text/plain": [
       "(True,\n",
       " array([[[-0.04706259, -0.52160413,         nan, ...,         nan,\n",
       "                  nan,         nan],\n",
       "         [        nan,         nan,         nan, ...,         nan,\n",
       "                  nan, -0.0156085 ],\n",
       "         [        nan,         nan,         nan, ...,         nan,\n",
       "                  nan,         nan],\n",
       "         ...,\n",
       "         [        nan,         nan,         nan, ...,         nan,\n",
       "           0.29022626,         nan],\n",
       "         [        nan,  0.67902615,         nan, ...,         nan,\n",
       "                  nan,         nan],\n",
       "         [-0.480543  ,         nan,         nan, ...,         nan,\n",
       "                  nan,         nan]]]),\n",
       " array([[[-0.04706259, -0.52160413,  0.00632773, ...,  0.00339748,\n",
       "          -0.03011912, -0.01321154],\n",
       "         [-0.0199985 ,  0.01545049,  0.00632773, ...,  0.00339748,\n",
       "          -0.03011912, -0.0156085 ],\n",
       "         [-0.0199985 ,  0.01545049,  0.00632773, ...,  0.00339748,\n",
       "          -0.03011912, -0.01321154],\n",
       "         ...,\n",
       "         [-0.0199985 ,  0.01545049,  0.00632773, ...,  0.00339748,\n",
       "           0.29022626, -0.01321154],\n",
       "         [-0.0199985 ,  0.67902615,  0.00632773, ...,  0.00339748,\n",
       "          -0.03011912, -0.01321154],\n",
       "         [-0.480543  ,  0.01545049,  0.00632773, ...,  0.00339748,\n",
       "          -0.03011912, -0.01321154]]]),\n",
       " array([[[-0.04706259, -0.52160413,  0.89754212, ...,  0.55548359,\n",
       "           0.44164619,  0.60938666],\n",
       "         [ 1.26972961,  0.14271149,  0.10564613, ...,  0.12761859,\n",
       "          -0.41114304, -0.0156085 ],\n",
       "         [-0.70323161,  0.93292542,  0.89650801, ...,  0.68824366,\n",
       "           0.5066451 ,  1.41923084],\n",
       "         ...,\n",
       "         [ 0.0974471 ,  1.13551649, -0.22114009, ..., -0.24767744,\n",
       "           0.29022626,  0.50976744],\n",
       "         [ 0.31154933,  0.67902615,  0.01279703, ..., -0.50218757,\n",
       "          -0.44115336, -0.29578484],\n",
       "         [-0.480543  , -0.38558108, -0.44069492, ...,  0.41423382,\n",
       "           0.93285617,  0.35793198]]]))"
      ]
     },
     "execution_count": 80,
     "metadata": {},
     "output_type": "execute_result"
    }
   ],
   "source": [
    "np.isnan(np.sum(Xb_miss)), Xb_miss, Xb_mean, Xb"
   ]
  },
  {
   "cell_type": "markdown",
   "id": "1da0714e",
   "metadata": {},
   "source": [
    "### Running the `uGLAD-miss` model in missing data mode "
   ]
  },
  {
   "cell_type": "code",
   "execution_count": null,
   "id": "46588e38",
   "metadata": {},
   "outputs": [
    {
     "name": "stdout",
     "output_type": "stream",
     "text": [
      "Running uGLAD\n",
      "Handling missing data\n",
      "Creating K=5 row-subsampled batches\n"
     ]
    }
   ],
   "source": [
    "from uGLAD import main as uG\n",
    "\n",
    "# Initialize the model\n",
    "model_uGLAD = uG.uGLAD_GL()  \n",
    "\n",
    "# Fit to the data\n",
    "model_uGLAD.fit(\n",
    "    Xb_miss[0],\n",
    "    centered=False,\n",
    "    epochs=500,\n",
    "    lr=0.003,\n",
    "    INIT_DIAG=0,\n",
    "    L=15,\n",
    "    verbose=False,\n",
    "    k_fold=5,  # The number of sumsample splits\n",
    "    mode='missing'\n",
    ")  \n",
    "\n",
    "# Comparing with true precision matrix\n",
    "compare_theta_uGLAD = reportMetrics(\n",
    "        true_theta[0], \n",
    "        model_uGLAD.precision_\n",
    "    )\n",
    "print(f'uGLAD: {compare_theta_uGLAD}')"
   ]
  },
  {
   "cell_type": "markdown",
   "id": "b74cb0c9",
   "metadata": {},
   "source": [
    "### Comparison with BCD-mean\n",
    "Run GrapicalLassoCV with mean imputed Xb_mean"
   ]
  },
  {
   "cell_type": "code",
   "execution_count": 81,
   "id": "9c6f277d",
   "metadata": {},
   "outputs": [
    {
     "name": "stdout",
     "output_type": "stream",
     "text": [
      "BCD: {'FDR': 0.36363636363636365, 'TPR': 0.7, 'FPR': 0.11428571428571428, 'SHD': 7, 'nnzTrue': 10, 'nnzPred': 11, 'precision': 0.6363636363636364, 'recall': 0.7, 'Fbeta': 0.6666666666666666, 'aupr': 0.7194444444444443, 'auc': 0.8214285714285714}\n"
     ]
    }
   ],
   "source": [
    "from sklearn.covariance import GraphicalLassoCV\n",
    "\n",
    "model_BCD = GraphicalLassoCV().fit(Xb_mean[0])\n",
    "# Compare with theta\n",
    "compare_theta_BCD = reportMetrics(\n",
    "    true_theta[0], \n",
    "    model_BCD.precision_\n",
    ")\n",
    "print(f'BCD: {compare_theta_BCD}')"
   ]
  },
  {
   "cell_type": "code",
   "execution_count": null,
   "id": "f4e0dbe7",
   "metadata": {},
   "outputs": [],
   "source": []
  }
 ],
 "metadata": {
  "kernelspec": {
   "display_name": "uGLAD",
   "language": "python",
   "name": "uglad"
  },
  "language_info": {
   "codemirror_mode": {
    "name": "ipython",
    "version": 3
   },
   "file_extension": ".py",
   "mimetype": "text/x-python",
   "name": "python",
   "nbconvert_exporter": "python",
   "pygments_lexer": "ipython3",
   "version": "3.8.12"
  }
 },
 "nbformat": 4,
 "nbformat_minor": 5
}
