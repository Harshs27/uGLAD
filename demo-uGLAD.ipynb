{
 "cells": [
  {
   "cell_type": "markdown",
   "id": "4c714614",
   "metadata": {},
   "source": [
    "## A minimalist example for recovering sparse graphs using `uGLAD`\n",
    "\n",
    "Fitting uGLAD on a erdos-renyi random sparse graph with samples obtained from a corresponding multivariate Gaussian distribution.    \n",
    "\n",
    "### About `uGLAD` \n",
    "An unsupervised learning based approach to recover sparse graphs. This work proposes `uGLAD` which is a unsupervised version of a previous `GLAD` model (GLAD: Learning Sparse Graph Recovery (ICLR 2020 - [link](<https://openreview.net/forum?id=BkxpMTEtPB>)).  \n",
    "\n",
    "Key benefits & features:  \n",
    "- Solution to Graphical Lasso: A better alternative to solve the Graphical Lasso problem as\n",
    "    - The neural networks of the uGLAD enable adaptive choices of the hyperparameters which leads to better performance than the existing algorithms  \n",
    "     - No need to pre-specify the sparsity related regularization hyperparameters    \n",
    "    - Requires less number of iterations to converge due to neural network based acceleration of the unrolled optimization algorithm (Alternating Minimization)    \n",
    "    - GPU based acceleration can be leveraged  \n",
    "- Glasso loss function: The loss is the logdet objective of the graphical lasso `1/M(-1*log|theta|+ <S, theta>)`, where `M=num_samples, S=input covariance matrix, theta=predicted precision matrix`.  \n",
    "- Ease of usability: Matches the I/O signature of `sklearn GraphicalLassoCV`, so easy to plug-in to the existing code.  "
   ]
  },
  {
   "cell_type": "code",
   "execution_count": 1,
   "id": "193b57a6",
   "metadata": {},
   "outputs": [
    {
     "name": "stdout",
     "output_type": "stream",
     "text": [
      "/home/harshx/anaconda3\n"
     ]
    }
   ],
   "source": [
    "import os, sys\n",
    "# reloads modules automatically before entering the \n",
    "# execution of code typed at the IPython prompt.\n",
    "%load_ext autoreload\n",
    "%autoreload 2\n",
    "# install jupyter-notebook in the env if the prefix does not \n",
    "# show the desired virtual env. \n",
    "print(sys.prefix)\n",
    "import warnings\n",
    "warnings.filterwarnings('ignore')"
   ]
  },
  {
   "cell_type": "code",
   "execution_count": 2,
   "id": "1db9f5ab",
   "metadata": {},
   "outputs": [
    {
     "data": {
      "text/plain": [
       "'1.10.1'"
      ]
     },
     "execution_count": 2,
     "metadata": {},
     "output_type": "execute_result"
    }
   ],
   "source": [
    "import torch\n",
    "torch.__version__"
   ]
  },
  {
   "cell_type": "markdown",
   "id": "982d45c7",
   "metadata": {},
   "source": [
    "### Create sample data"
   ]
  },
  {
   "cell_type": "code",
   "execution_count": 3,
   "id": "6f589ad0",
   "metadata": {},
   "outputs": [
    {
     "name": "stdout",
     "output_type": "stream",
     "text": [
      "true_theta: (1, 10, 10), Samples (1, 500, 10)\n"
     ]
    }
   ],
   "source": [
    "from uGLAD import main\n",
    "# Xb = samples batch, trueTheta = corresponding true precision matrices\n",
    "Xb, true_theta = main.get_data(\n",
    "    num_nodes=10, \n",
    "    sparsity=0.2, \n",
    "    num_samples=500, \n",
    "    batch_size=1\n",
    ")\n",
    "print(f'true_theta: {true_theta.shape}, Samples {Xb.shape}')"
   ]
  },
  {
   "cell_type": "markdown",
   "id": "5e6936ae",
   "metadata": {},
   "source": [
    "### Running the uGLAD model\n",
    "\n",
    "Until Convergence:  \n",
    "\n",
    "    1. Initialize learnable `GLAD` parameters\n",
    "    2. Run the GLAD model\n",
    "    3. Get the glasso-loss\n",
    "    4. Backprop\n",
    "\n",
    "Possible reasons if `uGLAD` does not converge: \n",
    "\n",
    "    1. Lower the learning rate   \n",
    "    2. Please re-run. This will run the optimization with different initializations  \n",
    "    3. Change the INIT_DIAG=0/1 in the `GLAD` model parameters"
   ]
  },
  {
   "cell_type": "code",
   "execution_count": 10,
   "id": "a9d3ca4f",
   "metadata": {},
   "outputs": [
    {
     "name": "stdout",
     "output_type": "stream",
     "text": [
      "epoch:0/250 loss:13.6103515625\n",
      "epoch:25/250 loss:13.477407455444336\n",
      "epoch:50/250 loss:13.436330795288086\n",
      "epoch:75/250 loss:13.373610496520996\n",
      "epoch:100/250 loss:13.286905288696289\n",
      "epoch:125/250 loss:12.010708808898926\n",
      "epoch:150/250 loss:8.891230583190918\n",
      "epoch:175/250 loss:8.086219787597656\n",
      "epoch:200/250 loss:7.791337013244629\n",
      "epoch:225/250 loss:7.632465839385986\n"
     ]
    }
   ],
   "source": [
    "from uGLAD import main\n",
    "model_uGLAD = main.uGLAD_GL()  # Initialize the model\n",
    "model_uGLAD.fit(Xb[0], centered=False)  # fit to the data"
   ]
  },
  {
   "cell_type": "code",
   "execution_count": 11,
   "id": "f359e63f",
   "metadata": {},
   "outputs": [
    {
     "name": "stdout",
     "output_type": "stream",
     "text": [
      "[[ 1.5078534   0.441982   -0.         -0.          0.          0.\n",
      "  -0.          0.38320804 -0.         -0.        ]\n",
      " [ 0.4419813   1.2526696   0.4506904  -0.          0.          0.\n",
      "  -0.         -0.          0.5989577  -0.        ]\n",
      " [-0.          0.4506904   1.1888602   0.62595505 -0.          0.\n",
      "   0.63859093 -0.         -0.         -0.        ]\n",
      " [-0.         -0.          0.6259555   1.4846597   0.51360565  0.\n",
      "  -0.         -0.         -0.          0.        ]\n",
      " [ 0.          0.         -0.          0.5136047   1.4903675   0.\n",
      "  -0.         -0.         -0.         -0.        ]\n",
      " [ 0.          0.          0.          0.          0.          1.783095\n",
      "  -0.         -0.         -0.          0.50723124]\n",
      " [-0.         -0.          0.63859046 -0.         -0.         -0.\n",
      "   1.4855901   0.         -0.          0.51358515]\n",
      " [ 0.38320798 -0.         -0.         -0.         -0.         -0.\n",
      "   0.          1.5606968   0.          0.49283662]\n",
      " [-0.          0.5989577  -0.         -0.         -0.         -0.\n",
      "  -0.          0.          1.6597949  -0.        ]\n",
      " [-0.         -0.         -0.          0.         -0.          0.50723135\n",
      "   0.51358503  0.49283674 -0.          1.4350483 ]] \n",
      " (10, 10)\n"
     ]
    }
   ],
   "source": [
    "print(model_uGLAD.precision_,'\\n', model_uGLAD.precision_.shape)"
   ]
  },
  {
   "cell_type": "code",
   "execution_count": 12,
   "id": "b1a80a64",
   "metadata": {},
   "outputs": [
    {
     "name": "stdout",
     "output_type": "stream",
     "text": [
      "[[1.80824026 0.71610987 0.         0.         0.         0.\n",
      "  0.         0.6128021  0.         0.        ]\n",
      " [0.71610987 1.80824026 0.74131555 0.         0.         0.\n",
      "  0.         0.         0.77774837 0.        ]\n",
      " [0.         0.74131555 1.80824026 0.85566806 0.         0.\n",
      "  0.8574103  0.         0.         0.        ]\n",
      " [0.         0.         0.85566806 1.80824026 0.72206713 0.\n",
      "  0.         0.         0.         0.        ]\n",
      " [0.         0.         0.         0.72206713 1.80824026 0.\n",
      "  0.         0.         0.         0.        ]\n",
      " [0.         0.         0.         0.         0.         1.80824026\n",
      "  0.         0.         0.         0.70075488]\n",
      " [0.         0.         0.8574103  0.         0.         0.\n",
      "  1.80824026 0.         0.         0.71725388]\n",
      " [0.6128021  0.         0.         0.         0.         0.\n",
      "  0.         1.80824026 0.         0.57698523]\n",
      " [0.         0.77774837 0.         0.         0.         0.\n",
      "  0.         0.         1.80824026 0.        ]\n",
      " [0.         0.         0.         0.         0.         0.70075488\n",
      "  0.71725388 0.57698523 0.         1.80824026]]\n"
     ]
    }
   ],
   "source": [
    "print(true_theta[0])"
   ]
  },
  {
   "cell_type": "code",
   "execution_count": null,
   "id": "528b2d2b",
   "metadata": {},
   "outputs": [],
   "source": []
  }
 ],
 "metadata": {
  "kernelspec": {
   "display_name": "uGLAD",
   "language": "python",
   "name": "uglad"
  },
  "language_info": {
   "codemirror_mode": {
    "name": "ipython",
    "version": 3
   },
   "file_extension": ".py",
   "mimetype": "text/x-python",
   "name": "python",
   "nbconvert_exporter": "python",
   "pygments_lexer": "ipython3",
   "version": "3.8.8"
  }
 },
 "nbformat": 4,
 "nbformat_minor": 5
}
