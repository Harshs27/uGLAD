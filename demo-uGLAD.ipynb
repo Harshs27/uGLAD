{
 "cells": [
  {
   "cell_type": "markdown",
   "id": "4c714614",
   "metadata": {},
   "source": [
    "## A minimalist example for recovering sparse graphs using `uGLAD`\n",
    "\n",
    "Fitting uGLAD on a erdos-renyi random sparse graph with samples obtained from a corresponding multivariate Gaussian distribution.    \n",
    "\n",
    "### About `uGLAD` \n",
    "An unsupervised learning based approach to recover sparse graphs. This work proposes `uGLAD` which is a unsupervised version of a previous `GLAD` model (GLAD: Learning Sparse Graph Recovery (ICLR 2020 - [link](<https://openreview.net/forum?id=BkxpMTEtPB>)).  \n",
    "\n",
    "Key benefits & features:  \n",
    "- Solution to Graphical Lasso: A better alternative to solve the Graphical Lasso problem as\n",
    "    - The neural networks of the uGLAD enable adaptive choices of the hyperparameters which leads to better performance than the existing algorithms  \n",
    "     - No need to pre-specify the sparsity related regularization hyperparameters    \n",
    "    - Requires less number of iterations to converge due to neural network based acceleration of the unrolled optimization algorithm (Alternating Minimization)    \n",
    "    - GPU based acceleration can be leveraged  \n",
    "- Glasso loss function: The loss is the logdet objective of the graphical lasso `1/M(-1*log|theta|+ <S, theta>)`, where `M=num_samples, S=input covariance matrix, theta=predicted precision matrix`.  \n",
    "- Ease of usability: Matches the I/O signature of `sklearn GraphicalLassoCV`, so easy to plug-in to the existing code.  "
   ]
  },
  {
   "cell_type": "code",
   "execution_count": 1,
   "id": "193b57a6",
   "metadata": {},
   "outputs": [
    {
     "name": "stdout",
     "output_type": "stream",
     "text": [
      "/home/harshx/anaconda3/envs/uGLAD\n"
     ]
    }
   ],
   "source": [
    "import os, sys\n",
    "# reloads modules automatically before entering the \n",
    "# execution of code typed at the IPython prompt.\n",
    "%load_ext autoreload\n",
    "%autoreload 2\n",
    "# install jupyter-notebook in the env if the prefix does not \n",
    "# show the desired virtual env. \n",
    "print(sys.prefix)\n",
    "import warnings\n",
    "warnings.filterwarnings('ignore')"
   ]
  },
  {
   "cell_type": "code",
   "execution_count": 2,
   "id": "1db9f5ab",
   "metadata": {},
   "outputs": [
    {
     "data": {
      "text/plain": [
       "'1.10.1'"
      ]
     },
     "execution_count": 2,
     "metadata": {},
     "output_type": "execute_result"
    }
   ],
   "source": [
    "import torch\n",
    "torch.__version__"
   ]
  },
  {
   "cell_type": "markdown",
   "id": "982d45c7",
   "metadata": {},
   "source": [
    "### Create sample data"
   ]
  },
  {
   "cell_type": "code",
   "execution_count": 3,
   "id": "6f589ad0",
   "metadata": {},
   "outputs": [
    {
     "name": "stdout",
     "output_type": "stream",
     "text": [
      "true_theta: (1, 10, 10), Samples (1, 500, 10)\n"
     ]
    }
   ],
   "source": [
    "from uGLAD import main\n",
    "# Xb = samples batch, trueTheta = corresponding true precision matrices\n",
    "Xb, true_theta = main.get_data(\n",
    "    num_nodes=10, \n",
    "    sparsity=0.2, \n",
    "    num_samples=500, \n",
    "    batch_size=1,\n",
    "    eig_offset=0.1, \n",
    "    w_min=0.5,\n",
    "    w_max=1\n",
    ")\n",
    "print(f'true_theta: {true_theta.shape}, Samples {Xb.shape}')"
   ]
  },
  {
   "cell_type": "markdown",
   "id": "5e6936ae",
   "metadata": {},
   "source": [
    "### Running the uGLAD model\n",
    "\n",
    "Until Convergence:  \n",
    "1. Initialize learnable `GLAD` parameters  \n",
    "2. Run the GLAD model  \n",
    "3. Get the glasso-loss  \n",
    "4. Backprop  \n",
    "\n",
    "Possible solutions if `uGLAD` does not converge:  \n",
    "1. Increase number of training EPOCHS\n",
    "2. Lower the learning rate    \n",
    "3. Please re-run. This will run the optimization with different initializations  \n",
    "4. Change the INIT_DIAG=0/1 in the `GLAD` model parameters \n",
    "5. Increase `L`, the number of unrolled iterations of `GLAD` "
   ]
  },
  {
   "cell_type": "code",
   "execution_count": 7,
   "id": "a9d3ca4f",
   "metadata": {},
   "outputs": [
    {
     "name": "stdout",
     "output_type": "stream",
     "text": [
      "epoch:0/250 loss:15.489583969116211\n",
      "epoch:25/250 loss:14.473474502563477\n",
      "epoch:50/250 loss:14.189064979553223\n",
      "epoch:75/250 loss:14.107943534851074\n",
      "epoch:100/250 loss:14.031806945800781\n",
      "epoch:125/250 loss:13.940059661865234\n",
      "epoch:150/250 loss:13.852167129516602\n",
      "epoch:175/250 loss:12.969505310058594\n",
      "epoch:200/250 loss:10.19554328918457\n",
      "epoch:225/250 loss:8.690495491027832\n",
      "Compare - {'FDR': 0.0, 'TPR': 1.0, 'FPR': 0.0, 'SHD': 0, 'nnzTrue': 12, 'nnzPred': 12, 'precsion': 1.0, 'recall': 1.0, 'Fbeta': 1.0, 'aupr': 1.0, 'auc': 1.0}\n"
     ]
    }
   ],
   "source": [
    "from uGLAD import main\n",
    "model_uGLAD = main.uGLAD_GL()  # Initialize the model\n",
    "model_uGLAD.fit(Xb[0], true_theta[0], centered=False, epochs=250)  # fit to the data"
   ]
  },
  {
   "cell_type": "code",
   "execution_count": 8,
   "id": "f359e63f",
   "metadata": {},
   "outputs": [
    {
     "name": "stdout",
     "output_type": "stream",
     "text": [
      "[[ 1.4404836  -0.         -0.         -0.         -0.          0.\n",
      "  -0.         -0.          0.42251015  0.38467064]\n",
      " [-0.          1.4293299  -0.         -0.          0.          0.\n",
      "  -0.         -0.         -0.          0.6477385 ]\n",
      " [-0.         -0.          1.5232587  -0.         -0.         -0.\n",
      "   0.          0.          0.         -0.        ]\n",
      " [-0.         -0.         -0.          1.5234779  -0.          0.\n",
      "  -0.          0.25111294 -0.          0.43402958]\n",
      " [-0.          0.         -0.         -0.          1.4153395   0.49050713\n",
      "  -0.         -0.          0.20844766  0.        ]\n",
      " [ 0.          0.         -0.          0.          0.4905072   1.3864069\n",
      "   0.20581746 -0.          0.30376875  0.        ]\n",
      " [-0.         -0.          0.         -0.         -0.          0.20581758\n",
      "   1.6625088  -0.          0.4712029  -0.        ]\n",
      " [-0.         -0.          0.          0.25111333 -0.         -0.\n",
      "  -0.          1.2687237   0.56496006  0.2649657 ]\n",
      " [ 0.42251015 -0.          0.         -0.          0.20844778  0.3037691\n",
      "   0.4712023   0.5649598   1.2267327  -0.        ]\n",
      " [ 0.38466993  0.6477383  -0.          0.43402946  0.          0.\n",
      "  -0.          0.26496667 -0.          0.8877331 ]] \n",
      " (10, 10)\n"
     ]
    }
   ],
   "source": [
    "print(model_uGLAD.precision_,'\\n', model_uGLAD.precision_.shape)"
   ]
  },
  {
   "cell_type": "code",
   "execution_count": 9,
   "id": "b1a80a64",
   "metadata": {},
   "outputs": [
    {
     "name": "stdout",
     "output_type": "stream",
     "text": [
      "[[1.80510005 0.         0.         0.         0.         0.\n",
      "  0.         0.         0.6079522  0.74880283]\n",
      " [0.         1.80510005 0.         0.         0.         0.\n",
      "  0.         0.         0.         0.90568032]\n",
      " [0.         0.         1.80510005 0.         0.         0.\n",
      "  0.         0.         0.         0.        ]\n",
      " [0.         0.         0.         1.80510005 0.         0.\n",
      "  0.         0.61633679 0.         0.83926166]\n",
      " [0.         0.         0.         0.         1.80510005 0.88125476\n",
      "  0.         0.         0.56310128 0.        ]\n",
      " [0.         0.         0.         0.         0.88125476 1.80510005\n",
      "  0.60941677 0.         0.74112496 0.        ]\n",
      " [0.         0.         0.         0.         0.         0.60941677\n",
      "  1.80510005 0.         0.76290138 0.        ]\n",
      " [0.         0.         0.         0.61633679 0.         0.\n",
      "  0.         1.80510005 0.76953828 0.66825042]\n",
      " [0.6079522  0.         0.         0.         0.56310128 0.74112496\n",
      "  0.76290138 0.76953828 1.80510005 0.        ]\n",
      " [0.74880283 0.90568032 0.         0.83926166 0.         0.\n",
      "  0.         0.66825042 0.         1.80510005]]\n"
     ]
    }
   ],
   "source": [
    "print(true_theta[0])"
   ]
  },
  {
   "cell_type": "code",
   "execution_count": null,
   "id": "528b2d2b",
   "metadata": {},
   "outputs": [],
   "source": []
  }
 ],
 "metadata": {
  "kernelspec": {
   "display_name": "uGLAD",
   "language": "python",
   "name": "uglad"
  },
  "language_info": {
   "codemirror_mode": {
    "name": "ipython",
    "version": 3
   },
   "file_extension": ".py",
   "mimetype": "text/x-python",
   "name": "python",
   "nbconvert_exporter": "python",
   "pygments_lexer": "ipython3",
   "version": "3.8.12"
  }
 },
 "nbformat": 4,
 "nbformat_minor": 5
}
