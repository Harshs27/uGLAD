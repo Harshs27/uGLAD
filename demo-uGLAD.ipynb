{
 "cells": [
  {
   "cell_type": "markdown",
   "id": "4c714614",
   "metadata": {},
   "source": [
    "## A minimalist example for recovering sparse graphs using `uGLAD`\n",
    "\n",
    "Fitting uGLAD on a erdos-renyi random sparse graph with samples obtained from a corresponding multivariate Gaussian distribution.    \n",
    "\n",
    "### About `uGLAD` \n",
    "An unsupervised learning based approach to recover sparse graphs. This work proposes `uGLAD` which is a unsupervised version of a previous `GLAD` model (GLAD: Learning Sparse Graph Recovery (ICLR 2020 - [link](<https://openreview.net/forum?id=BkxpMTEtPB>)).  \n",
    "\n",
    "Key benefits & features:  \n",
    "- Solution to Graphical Lasso: A better alternative to solve the Graphical Lasso problem as\n",
    "    - The neural networks of the uGLAD enable adaptive choices of the hyperparameters which leads to better performance than the existing algorithms  \n",
    "     - No need to pre-specify the sparsity related regularization hyperparameters    \n",
    "    - Requires less number of iterations to converge due to neural network based acceleration of the unrolled optimization algorithm (Alternating Minimization)    \n",
    "    - GPU based acceleration can be leveraged  \n",
    "- Glasso loss function: The loss is the logdet objective of the graphical lasso `1/M(-1*log|theta|+ <S, theta>)`, where `M=num_samples, S=input covariance matrix, theta=predicted precision matrix`.  \n",
    "- Ease of usability: Matches the I/O signature of `sklearn GraphicalLassoCV`, so easy to plug-in to the existing code.  "
   ]
  },
  {
   "cell_type": "code",
   "execution_count": 1,
   "id": "193b57a6",
   "metadata": {},
   "outputs": [
    {
     "name": "stdout",
     "output_type": "stream",
     "text": [
      "/home/harshx/anaconda3/envs/uGLAD\n"
     ]
    }
   ],
   "source": [
    "import os, sys\n",
    "# reloads modules automatically before entering the \n",
    "# execution of code typed at the IPython prompt.\n",
    "%load_ext autoreload\n",
    "%autoreload 2\n",
    "# install jupyter-notebook in the env if the prefix does not \n",
    "# show the desired virtual env. \n",
    "print(sys.prefix)\n",
    "import warnings\n",
    "warnings.filterwarnings('ignore')"
   ]
  },
  {
   "cell_type": "code",
   "execution_count": 2,
   "id": "1db9f5ab",
   "metadata": {},
   "outputs": [
    {
     "data": {
      "text/plain": [
       "'1.10.1'"
      ]
     },
     "execution_count": 2,
     "metadata": {},
     "output_type": "execute_result"
    }
   ],
   "source": [
    "import torch\n",
    "torch.__version__"
   ]
  },
  {
   "cell_type": "markdown",
   "id": "982d45c7",
   "metadata": {},
   "source": [
    "### Create sample data"
   ]
  },
  {
   "cell_type": "code",
   "execution_count": 17,
   "id": "6f589ad0",
   "metadata": {},
   "outputs": [
    {
     "name": "stdout",
     "output_type": "stream",
     "text": [
      "true_theta: (1, 10, 10), Samples (1, 500, 10)\n"
     ]
    }
   ],
   "source": [
    "from uGLAD.utils.prepare_data import get_data\n",
    "from uGLAD.utils.metrics import reportMetrics\n",
    "\n",
    "# Xb = samples batch, trueTheta = corresponding true precision matrices\n",
    "Xb, true_theta = get_data(\n",
    "    num_nodes=10, \n",
    "    sparsity=0.2, \n",
    "    num_samples=500, \n",
    "    batch_size=1,\n",
    "    eig_offset=1, \n",
    "    w_min=0.5,\n",
    "    w_max=1\n",
    ")\n",
    "print(f'true_theta: {true_theta.shape}, Samples {Xb.shape}')"
   ]
  },
  {
   "cell_type": "markdown",
   "id": "5e6936ae",
   "metadata": {},
   "source": [
    "### The uGLAD model\n",
    "\n",
    "Learning details:  \n",
    "1. Initialize learnable `GLAD` parameters  \n",
    "2. Run the GLAD model  \n",
    "3. Get the glasso-loss  \n",
    "4. Backprop  \n",
    "\n",
    "Possible solutions if `uGLAD` does not converge:  \n",
    "1. Increase number of training EPOCHS\n",
    "2. Lower the learning rate    \n",
    "3. Please re-run. This will run the optimization with different initializations  \n",
    "4. Change the INIT_DIAG=0/1 in the `GLAD` model parameters  \n",
    "5. Increase `L`, the number of unrolled iterations of `GLAD`"
   ]
  },
  {
   "cell_type": "markdown",
   "id": "5a1da718",
   "metadata": {},
   "source": [
    "### Running the uGLAD-Direct mode\n",
    "\n",
    "- Directly optimize the uGLAD model on the complete data X\n",
    "- Optimizes the model to minimize the glasso-loss on X "
   ]
  },
  {
   "cell_type": "code",
   "execution_count": 21,
   "id": "44fa2c1a",
   "metadata": {},
   "outputs": [
    {
     "name": "stdout",
     "output_type": "stream",
     "text": [
      "Running uGLAD\n",
      "Direct Mode\n",
      "Total runtime: 9.464847803115845 secs\n",
      "\n",
      "uGLAD: {'FDR': 0.0, 'TPR': 1.0, 'FPR': 0.0, 'SHD': 0, 'nnzTrue': 13, 'nnzPred': 13, 'precision': 1.0, 'recall': 1.0, 'Fbeta': 1.0, 'aupr': 0.9999999999999998, 'auc': 1.0}\n"
     ]
    }
   ],
   "source": [
    "from uGLAD import main as uG\n",
    "\n",
    "# Initialize the model\n",
    "model_uGLAD = uG.uGLAD_GL()  \n",
    "\n",
    "# Fit to the data\n",
    "model_uGLAD.fit(\n",
    "    Xb[0],\n",
    "    centered=False,\n",
    "    epochs=250,\n",
    "    lr=0.002,\n",
    "    INIT_DIAG=0,\n",
    "    L=15,\n",
    "    verbose=False, \n",
    "    k_fold=0  # Direct mode\n",
    ")  \n",
    "\n",
    "# Comparing with true precision matrix\n",
    "compare_theta_uGLAD = reportMetrics(\n",
    "        true_theta[0], \n",
    "        model_uGLAD.precision_\n",
    "    )\n",
    "print(f'uGLAD: {compare_theta_uGLAD}')"
   ]
  },
  {
   "cell_type": "markdown",
   "id": "06c27c15",
   "metadata": {},
   "source": [
    "### Running the uGLAD-CV mode \n",
    "\n",
    "- Finds the best model by doing cross-fold validation on the input samples X\n",
    "- Chooses the model which performs best in terms of glasso-loss on held-out data\n",
    "- More conservative than the direct mode"
   ]
  },
  {
   "cell_type": "code",
   "execution_count": 26,
   "id": "a9d3ca4f",
   "metadata": {},
   "outputs": [
    {
     "name": "stdout",
     "output_type": "stream",
     "text": [
      "Running uGLAD\n",
      "CV mode: 3-fold\n",
      "Total runtime: 36.47530436515808 secs\n",
      "\n",
      "uGLAD: {'FDR': 0.13333333333333333, 'TPR': 1.0, 'FPR': 0.0625, 'SHD': 2, 'nnzTrue': 13, 'nnzPred': 15, 'precision': 0.8666666666666667, 'recall': 1.0, 'Fbeta': 0.9285714285714286, 'aupr': 0.9999999999999998, 'auc': 1.0}\n"
     ]
    }
   ],
   "source": [
    "from uGLAD import main as uG\n",
    "\n",
    "# Initialize the model\n",
    "model_uGLAD = uG.uGLAD_GL()  \n",
    "\n",
    "# Fit to the data\n",
    "model_uGLAD.fit(\n",
    "    Xb[0],\n",
    "    centered=False,\n",
    "    epochs=250,\n",
    "    lr=0.002,\n",
    "    INIT_DIAG=0,\n",
    "    L=15,\n",
    "    verbose=False,\n",
    "    k_fold=3\n",
    ")  \n",
    "\n",
    "# Comparing with true precision matrix\n",
    "compare_theta_uGLAD = reportMetrics(\n",
    "        true_theta[0], \n",
    "        model_uGLAD.precision_\n",
    "    )\n",
    "print(f'uGLAD: {compare_theta_uGLAD}')"
   ]
  },
  {
   "cell_type": "markdown",
   "id": "f7d862d3",
   "metadata": {},
   "source": [
    "### Comparison with sklearn's GraphicalLassoCV"
   ]
  },
  {
   "cell_type": "code",
   "execution_count": 24,
   "id": "528b2d2b",
   "metadata": {},
   "outputs": [
    {
     "name": "stdout",
     "output_type": "stream",
     "text": [
      "BCD: {'FDR': 0.5806451612903226, 'TPR': 1.0, 'FPR': 0.5625, 'SHD': 18, 'nnzTrue': 13, 'nnzPred': 31, 'precision': 0.41935483870967744, 'recall': 1.0, 'Fbeta': 0.5909090909090909, 'aupr': 0.9999999999999998, 'auc': 1.0}\n"
     ]
    }
   ],
   "source": [
    "from sklearn.covariance import GraphicalLassoCV\n",
    "\n",
    "model_BCD = GraphicalLassoCV().fit(Xb[0])\n",
    "# Compare with theta\n",
    "compare_theta_BCD = reportMetrics(\n",
    "    true_theta[0], \n",
    "    model_BCD.precision_\n",
    ")\n",
    "print(f'BCD: {compare_theta_BCD}')"
   ]
  }
 ],
 "metadata": {
  "kernelspec": {
   "display_name": "uGLAD",
   "language": "python",
   "name": "uglad"
  },
  "language_info": {
   "codemirror_mode": {
    "name": "ipython",
    "version": 3
   },
   "file_extension": ".py",
   "mimetype": "text/x-python",
   "name": "python",
   "nbconvert_exporter": "python",
   "pygments_lexer": "ipython3",
   "version": "3.8.12"
  }
 },
 "nbformat": 4,
 "nbformat_minor": 5
}
